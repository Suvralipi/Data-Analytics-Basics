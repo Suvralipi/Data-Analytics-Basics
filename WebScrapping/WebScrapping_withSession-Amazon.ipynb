{
 "cells": [
  {
   "cell_type": "code",
   "execution_count": 2,
   "metadata": {},
   "outputs": [],
   "source": [
    "import os\n",
    "import time"
   ]
  },
  {
   "cell_type": "code",
   "execution_count": 3,
   "metadata": {},
   "outputs": [],
   "source": [
    "import re\n",
    "import numpy as np\n",
    "from bs4 import BeautifulSoup\n",
    "from selenium.webdriver.common.by import By\n",
    "from selenium.webdriver.support.wait import WebDriverWait\n",
    "from selenium.webdriver.support import expected_conditions as EC\n",
    "import requests\n",
    "import urllib.request as urllib\n",
    "from selenium import webdriver\n",
    "url = \"https://www.amazon.com/Palmers-Coconut-Formula-Moisture-Ounce/dp/B000EGMBTS\"\n",
    "options = webdriver.ChromeOptions()\n",
    "options.add_argument('--headless')\n",
    "options.add_argument('--no-sandbox')\n",
    "options.add_argument('--disable-dev-shm-usage')\n",
    "# open it, go to a website, and get results\n",
    "wd = webdriver.Chrome('chromedriver',options=options)"
   ]
  },
  {
   "cell_type": "code",
   "execution_count": 4,
   "metadata": {},
   "outputs": [],
   "source": [
    "def get_product_dtls(url):\n",
    "    wd.get(url)\n",
    "    productInfo = {}\n",
    "    soup = BeautifulSoup(wd.page_source,\"lxml\")\n",
    "    productInfo['title'] = soup.title.text.strip().replace('Amazon.com : ', '')\n",
    "    productInfo['productDescription'] = soup.find(id=\"productDescription\").get_text().strip()\n",
    "    productInfo['productClass'] = [tag.text.strip() for tag in soup.find_all('a',{'class':\"a-link-normal a-color-tertiary\"})]\n",
    "    \n",
    "    for tag in soup.find_all('span',{'class':\"a-list-item\"}):\n",
    "        for tag1 in tag.findChildren('span',{'class':\"a-text-bold\"}):\n",
    "          try:\n",
    "            key=tag1.text.strip().replace('\\n','').replace(':','')\n",
    "            value=tag1.find_next_sibling('span').text.strip()\n",
    "            productInfo[key] = value\n",
    "          except Exception:\n",
    "            pass\n",
    "    \n",
    "    return productInfo"
   ]
  },
  {
   "cell_type": "code",
   "execution_count": 12,
   "metadata": {},
   "outputs": [
    {
     "name": "stdout",
     "output_type": "stream",
     "text": [
      "{'title': 'Buy Head & Shoulders Supreme Scalp Rejuvenation Conditioner with Argan Oil For Dry Scalp, Anti-Dandruff, 180 ML Online at Low Prices in India - Amazon.in', 'productDescription': 'Experiencing a dry scalp. Try out the all-new head & shoulders supreme scalp rejuvenation conditioner. Fused with nourishing agents and the richness of argan oil, this luxurious formula provides intensive moisture to the lengths of your hair, leaving you with healthier-looking hair. Rinse the shampoo off your hair properly. Apply adequate amount of the head & shoulders supreme scalp rejuvenation conditioner from the mid length to the tip of your hair. Leave it on your hair for 1 minute. Rinse your hair thoroughly.', 'productClass': ['Beauty', 'Hair Care & Styling', 'Hair Care', 'Conditioners'], 'This item': 'Head & Shoulders Supreme Scalp Rejuvenation Conditioner with Argan Oil For Dry Scalp, Anti-Dandruff…', 'Product Dimensions': '7.9 x 4.9 x 18.3 cm; 190 Grams', 'Date First Available': '29 May 2020', 'Manufacturer': 'Head & Shoulders, Procter & Gamble Home Products Private Limited, Plot No.1, Industrial Area, Village Katha, Baddi, Dist Solan, H.P. - 173205 , Contact - 02224942113', 'ASIN': 'B089F29QRG', 'Item part number': '82311676', 'Country of Origin': 'India', 'Item Weight': '190 g', 'Item Dimensions LxWxH': '7.9 x 4.9 x 18.3 Centimeters', 'Units': '180 millilitre', 'Product Name': 'Supreme Scalp Rejuvenation Conditioner'}\n"
     ]
    }
   ],
   "source": [
    "productInfo = get_product_dtls('https://www.amazon.in/Head-Shoulders-Rejuvenation-Conditioner-Anti-Dandruff/dp/B089F29QRG/ref=pd_lpo_194_t_2/259-5978507-4962548?_encoding=UTF8&pd_rd_i=B089F29QRG&pd_rd_r=52b939a9-899c-4dda-af85-a7abd75429c0&pd_rd_w=5Z4ks&pd_rd_wg=H7Huz&pf_rd_p=5a903e39-3cff-40f0-9a69-33552e242181&pf_rd_r=Q3PJP1PKHMP3EQDX3X6Y&psc=1&refRID=Q3PJP1PKHMP3EQDX3X6Y')\n",
    "print(productInfo)"
   ]
  },
  {
   "cell_type": "code",
   "execution_count": 13,
   "metadata": {},
   "outputs": [],
   "source": [
    "link=['https://www.amazon.com/Palmers-Coconut-Formula-Moisture-Ounce/dp/B000EGMBTS',\n",
    "'https://www.amazon.in/Head-Shoulders-Rejuvenation-Conditioner-Anti-Dandruff/dp/B089F29QRG/ref=pd_lpo_194_t_2/259-5978507-4962548?_encoding=UTF8&pd_rd_i=B089F29QRG&pd_rd_r=52b939a9-899c-4dda-af85-a7abd75429c0&pd_rd_w=5Z4ks&pd_rd_wg=H7Huz&pf_rd_p=5a903e39-3cff-40f0-9a69-33552e242181&pf_rd_r=Q3PJP1PKHMP3EQDX3X6Y&psc=1&refRID=Q3PJP1PKHMP3EQDX3X6Y',\n",
    "'https://www.amazon.in/Cantu-Butter-Leave-Conditioning-Repair/dp/B00449W12S/ref=pd_sbs_194_3/259-5978507-4962548?_encoding=UTF8&pd_rd_i=B00449W12S&pd_rd_r=8dfd01ca-1ef5-4ad4-9596-7fd4d70f502f&pd_rd_w=9oZy7&pd_rd_wg=5Jww3&pf_rd_p=00b53f5d-d1f8-4708-89df-2987ccce05ce&pf_rd_r=QSBRG4X60ZWE1MEQA5E0&psc=1&refRID=QSBRG4X60ZWE1MEQA5E0',\n",
    "'https://www.amazon.com/Palmers-Cocoa-Butter-Restoring-Conditioner/dp/B0032WNUT6',\n",
    "'https://www.amazon.in/Superdrug-Coconut-Water-Masque-200/dp/B08286YMM4']"
   ]
  },
  {
   "cell_type": "code",
   "execution_count": 13,
   "metadata": {},
   "outputs": [
    {
     "name": "stdout",
     "output_type": "stream",
     "text": [
      "Buy Head & Shoulders Supreme Scalp Rejuvenation Conditioner with Argan Oil For Dry Scalp, Anti-Dandruff, 180 ML Online at Low Prices in India - Amazon.in\n",
      "Head & Shoulders, Procter & Gamble Home Products Private Limited, Plot No.1, Industrial Area, Village Katha, Baddi, Dist Solan, H.P. - 173205 , Contact - 02224942113\n"
     ]
    }
   ],
   "source": [
    "print(productInfo['title'])\n",
    "print(productInfo['Manufacturer'])"
   ]
  },
  {
   "cell_type": "code",
   "execution_count": 7,
   "metadata": {},
   "outputs": [],
   "source": [
    "import spacy"
   ]
  },
  {
   "cell_type": "code",
   "execution_count": 11,
   "metadata": {},
   "outputs": [
    {
     "name": "stdout",
     "output_type": "stream",
     "text": [
      "Palmer 0 6 GPE\n",
      "Coconut Oil Formula Moisture Gro Hairdress 9 51 ORG\n"
     ]
    }
   ],
   "source": [
    "nlp = spacy.load(\"en_core_web_sm\")\n",
    "doc = nlp(productInfo['title'])\n",
    "for ent in doc.ents:\n",
    "    print(ent.text, ent.start_char, ent.end_char, ent.label_)"
   ]
  },
  {
   "cell_type": "code",
   "execution_count": null,
   "metadata": {},
   "outputs": [],
   "source": []
  }
 ],
 "metadata": {
  "kernelspec": {
   "display_name": "Python 3",
   "language": "python",
   "name": "python3"
  },
  "language_info": {
   "codemirror_mode": {
    "name": "ipython",
    "version": 3
   },
   "file_extension": ".py",
   "mimetype": "text/x-python",
   "name": "python",
   "nbconvert_exporter": "python",
   "pygments_lexer": "ipython3",
   "version": "3.7.0"
  }
 },
 "nbformat": 4,
 "nbformat_minor": 2
}
