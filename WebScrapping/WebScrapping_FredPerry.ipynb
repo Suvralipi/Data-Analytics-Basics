{
 "cells": [
  {
   "cell_type": "code",
   "execution_count": null,
   "metadata": {},
   "outputs": [],
   "source": [
    "import os\n",
    "import numpy as np\n",
    "from bs4 import BeautifulSoup\n",
    "from selenium.webdriver.common.by import By\n",
    "from selenium.webdriver.support.wait import WebDriverWait\n",
    "from selenium.webdriver.support import expected_conditions as EC\n",
    "import requests\n",
    "import urllib.request as urllib\n",
    "from selenium import webdriver\n",
    "\n",
    "browser = webdriver.Chrome() #replace with .Firefox(), or with the browser of your choice"
   ]
  },
  {
   "cell_type": "code",
   "execution_count": null,
   "metadata": {},
   "outputs": [],
   "source": [
    "url = \"https://www.fredperry.com/women/t-shirts-tops?fp_category=1258\"\n",
    "browser.get(url) #navigate to the page"
   ]
  },
  {
   "cell_type": "code",
   "execution_count": null,
   "metadata": {
    "scrolled": true
   },
   "outputs": [],
   "source": [
    "#import os\n",
    "#os.chdir('C:/Users/Suvralipi/Marks&Spenser/')\n",
    "os.chdir('C:/Users/Suvralipi/Marks&Spenser/FredPerryDataset/Women/Shirts/')\n",
    "os.getcwd()"
   ]
  },
  {
   "cell_type": "code",
   "execution_count": null,
   "metadata": {
    "scrolled": true
   },
   "outputs": [],
   "source": [
    "i=1\n",
    "img_list = browser.find_elements_by_css_selector(\"img\")\n",
    "src_list = [src.get_attribute('data-alt-srcset') for src in img_list]\n",
    "for src in src_list:\n",
    "    img_name='women_tshirts_'+str(i)+'.jpg'\n",
    "    urllib.urlretrieve(str(src).split(' ')[0], img_name)\n",
    "    i=i+1"
   ]
  },
  {
   "cell_type": "code",
   "execution_count": null,
   "metadata": {},
   "outputs": [],
   "source": []
  }
 ],
 "metadata": {
  "kernelspec": {
   "display_name": "Python 3",
   "language": "python",
   "name": "python3"
  },
  "language_info": {
   "codemirror_mode": {
    "name": "ipython",
    "version": 3
   },
   "file_extension": ".py",
   "mimetype": "text/x-python",
   "name": "python",
   "nbconvert_exporter": "python",
   "pygments_lexer": "ipython3",
   "version": "3.7.0"
  }
 },
 "nbformat": 4,
 "nbformat_minor": 2
}
