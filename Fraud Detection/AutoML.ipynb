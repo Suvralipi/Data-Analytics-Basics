{
 "cells": [
  {
   "cell_type": "code",
   "execution_count": 1,
   "metadata": {},
   "outputs": [
    {
     "name": "stdout",
     "output_type": "stream",
     "text": [
      "Checking whether there is an H2O instance running at http://localhost:54321 ..... not found.\n",
      "Attempting to start a local H2O server...\n",
      "; Java HotSpot(TM) 64-Bit Server VM (build 25.201-b09, mixed mode)\n",
      "  Starting server from c:\\programdata\\miniconda3\\lib\\site-packages\\h2o\\backend\\bin\\h2o.jar\n",
      "  Ice root: C:\\Users\\SUVRAL~1\\AppData\\Local\\Temp\\tmpke96vi0f\n",
      "  JVM stdout: C:\\Users\\SUVRAL~1\\AppData\\Local\\Temp\\tmpke96vi0f\\h2o_Suvralipi_started_from_python.out\n",
      "  JVM stderr: C:\\Users\\SUVRAL~1\\AppData\\Local\\Temp\\tmpke96vi0f\\h2o_Suvralipi_started_from_python.err\n",
      "  Server is running at http://127.0.0.1:54321\n",
      "Connecting to H2O server at http://127.0.0.1:54321 ... successful.\n"
     ]
    },
    {
     "data": {
      "text/html": [
       "<div style=\"overflow:auto\"><table style=\"width:50%\"><tr><td>H2O cluster uptime:</td>\n",
       "<td>08 secs</td></tr>\n",
       "<tr><td>H2O cluster timezone:</td>\n",
       "<td>Asia/Kolkata</td></tr>\n",
       "<tr><td>H2O data parsing timezone:</td>\n",
       "<td>UTC</td></tr>\n",
       "<tr><td>H2O cluster version:</td>\n",
       "<td>3.28.0.3</td></tr>\n",
       "<tr><td>H2O cluster version age:</td>\n",
       "<td>16 days </td></tr>\n",
       "<tr><td>H2O cluster name:</td>\n",
       "<td>H2O_from_python_Suvralipi_gwve16</td></tr>\n",
       "<tr><td>H2O cluster total nodes:</td>\n",
       "<td>1</td></tr>\n",
       "<tr><td>H2O cluster free memory:</td>\n",
       "<td>7.111 Gb</td></tr>\n",
       "<tr><td>H2O cluster total cores:</td>\n",
       "<td>4</td></tr>\n",
       "<tr><td>H2O cluster allowed cores:</td>\n",
       "<td>4</td></tr>\n",
       "<tr><td>H2O cluster status:</td>\n",
       "<td>accepting new members, healthy</td></tr>\n",
       "<tr><td>H2O connection url:</td>\n",
       "<td>http://127.0.0.1:54321</td></tr>\n",
       "<tr><td>H2O connection proxy:</td>\n",
       "<td>{'http': None, 'https': None}</td></tr>\n",
       "<tr><td>H2O internal security:</td>\n",
       "<td>False</td></tr>\n",
       "<tr><td>H2O API Extensions:</td>\n",
       "<td>Amazon S3, Algos, AutoML, Core V3, TargetEncoder, Core V4</td></tr>\n",
       "<tr><td>Python version:</td>\n",
       "<td>3.7.0 final</td></tr></table></div>"
      ],
      "text/plain": [
       "--------------------------  ---------------------------------------------------------\n",
       "H2O cluster uptime:         08 secs\n",
       "H2O cluster timezone:       Asia/Kolkata\n",
       "H2O data parsing timezone:  UTC\n",
       "H2O cluster version:        3.28.0.3\n",
       "H2O cluster version age:    16 days\n",
       "H2O cluster name:           H2O_from_python_Suvralipi_gwve16\n",
       "H2O cluster total nodes:    1\n",
       "H2O cluster free memory:    7.111 Gb\n",
       "H2O cluster total cores:    4\n",
       "H2O cluster allowed cores:  4\n",
       "H2O cluster status:         accepting new members, healthy\n",
       "H2O connection url:         http://127.0.0.1:54321\n",
       "H2O connection proxy:       {'http': None, 'https': None}\n",
       "H2O internal security:      False\n",
       "H2O API Extensions:         Amazon S3, Algos, AutoML, Core V3, TargetEncoder, Core V4\n",
       "Python version:             3.7.0 final\n",
       "--------------------------  ---------------------------------------------------------"
      ]
     },
     "metadata": {},
     "output_type": "display_data"
    }
   ],
   "source": [
    "import h2o\n",
    "from h2o.automl import H2OAutoML\n",
    "h2o.init(max_mem_size='8G')"
   ]
  },
  {
   "cell_type": "code",
   "execution_count": 3,
   "metadata": {},
   "outputs": [
    {
     "name": "stdout",
     "output_type": "stream",
     "text": [
      "Parse progress: |█████████████████████████████████████████████████████████| 100%\n"
     ]
    }
   ],
   "source": [
    "from FraudDependencyParser import FraudDependencyParser\n",
    "obj = FraudDependencyParser()\n",
    "input_df=h2o.import_file(obj.inpath+'Input_dataset.csv')"
   ]
  },
  {
   "cell_type": "code",
   "execution_count": 4,
   "metadata": {},
   "outputs": [
    {
     "data": {
      "text/html": [
       "<table>\n",
       "<thead>\n",
       "<tr><th style=\"text-align: right;\">  step</th><th>customer   </th><th style=\"text-align: right;\">  age</th><th>gender  </th><th>merchant  </th><th>category      </th><th style=\"text-align: right;\">  amount</th><th style=\"text-align: right;\">  cust_zip_code</th><th style=\"text-align: right;\">  merch_zip_code</th><th style=\"text-align: right;\">  fraud</th></tr>\n",
       "</thead>\n",
       "<tbody>\n",
       "<tr><td style=\"text-align: right;\">     0</td><td>C1093826151</td><td style=\"text-align: right;\">    4</td><td>M       </td><td>M348934600</td><td>transportation</td><td style=\"text-align: right;\">    4.55</td><td style=\"text-align: right;\">         513111</td><td style=\"text-align: right;\">          943864</td><td style=\"text-align: right;\">      0</td></tr>\n",
       "<tr><td style=\"text-align: right;\">     2</td><td>C1093826151</td><td style=\"text-align: right;\">    4</td><td>M       </td><td>M348934600</td><td>transportation</td><td style=\"text-align: right;\">   37.21</td><td style=\"text-align: right;\">         513111</td><td style=\"text-align: right;\">          943864</td><td style=\"text-align: right;\">      0</td></tr>\n",
       "<tr><td style=\"text-align: right;\">     3</td><td>C1093826151</td><td style=\"text-align: right;\">    4</td><td>M       </td><td>M348934600</td><td>transportation</td><td style=\"text-align: right;\">   31.63</td><td style=\"text-align: right;\">         513111</td><td style=\"text-align: right;\">          943864</td><td style=\"text-align: right;\">      0</td></tr>\n",
       "<tr><td style=\"text-align: right;\">     4</td><td>C1093826151</td><td style=\"text-align: right;\">    4</td><td>M       </td><td>M348934600</td><td>transportation</td><td style=\"text-align: right;\">   35.86</td><td style=\"text-align: right;\">         513111</td><td style=\"text-align: right;\">          943864</td><td style=\"text-align: right;\">      0</td></tr>\n",
       "<tr><td style=\"text-align: right;\">     6</td><td>C1093826151</td><td style=\"text-align: right;\">    4</td><td>M       </td><td>M348934600</td><td>transportation</td><td style=\"text-align: right;\">   39.58</td><td style=\"text-align: right;\">         513111</td><td style=\"text-align: right;\">          943864</td><td style=\"text-align: right;\">      0</td></tr>\n",
       "<tr><td style=\"text-align: right;\">     7</td><td>C1093826151</td><td style=\"text-align: right;\">    4</td><td>M       </td><td>M348934600</td><td>transportation</td><td style=\"text-align: right;\">   32.04</td><td style=\"text-align: right;\">         513111</td><td style=\"text-align: right;\">          943864</td><td style=\"text-align: right;\">      0</td></tr>\n",
       "<tr><td style=\"text-align: right;\">     9</td><td>C1093826151</td><td style=\"text-align: right;\">    4</td><td>M       </td><td>M348934600</td><td>transportation</td><td style=\"text-align: right;\">   12.52</td><td style=\"text-align: right;\">         513111</td><td style=\"text-align: right;\">          943864</td><td style=\"text-align: right;\">      0</td></tr>\n",
       "<tr><td style=\"text-align: right;\">    10</td><td>C1093826151</td><td style=\"text-align: right;\">    4</td><td>M       </td><td>M348934600</td><td>transportation</td><td style=\"text-align: right;\">    4.68</td><td style=\"text-align: right;\">         513111</td><td style=\"text-align: right;\">          943864</td><td style=\"text-align: right;\">      0</td></tr>\n",
       "<tr><td style=\"text-align: right;\">    11</td><td>C1093826151</td><td style=\"text-align: right;\">    4</td><td>M       </td><td>M348934600</td><td>transportation</td><td style=\"text-align: right;\">    2.22</td><td style=\"text-align: right;\">         513111</td><td style=\"text-align: right;\">          943864</td><td style=\"text-align: right;\">      0</td></tr>\n",
       "<tr><td style=\"text-align: right;\">    13</td><td>C1093826151</td><td style=\"text-align: right;\">    4</td><td>M       </td><td>M348934600</td><td>transportation</td><td style=\"text-align: right;\">   49.42</td><td style=\"text-align: right;\">         513111</td><td style=\"text-align: right;\">          943864</td><td style=\"text-align: right;\">      0</td></tr>\n",
       "</tbody>\n",
       "</table>"
      ]
     },
     "metadata": {},
     "output_type": "display_data"
    },
    {
     "data": {
      "text/plain": []
     },
     "execution_count": 4,
     "metadata": {},
     "output_type": "execute_result"
    }
   ],
   "source": [
    "input_df.head()"
   ]
  },
  {
   "cell_type": "code",
   "execution_count": 6,
   "metadata": {},
   "outputs": [
    {
     "name": "stdout",
     "output_type": "stream",
     "text": [
      "Rows:590934\n",
      "Cols:10\n",
      "\n",
      "\n"
     ]
    },
    {
     "data": {
      "text/html": [
       "<table>\n",
       "<thead>\n",
       "<tr><th>       </th><th>step              </th><th>customer   </th><th>age               </th><th>gender  </th><th>merchant  </th><th>category      </th><th>amount           </th><th>cust_zip_code     </th><th>merch_zip_code   </th><th>fraud               </th></tr>\n",
       "</thead>\n",
       "<tbody>\n",
       "<tr><td>type   </td><td>int               </td><td>enum       </td><td>int               </td><td>enum    </td><td>enum      </td><td>enum          </td><td>real             </td><td>int               </td><td>int              </td><td>int                 </td></tr>\n",
       "<tr><td>mins   </td><td>0.0               </td><td>           </td><td>0.0               </td><td>        </td><td>          </td><td>              </td><td>0.0              </td><td>309.0             </td><td>12764.0          </td><td>0.0                 </td></tr>\n",
       "<tr><td>mean   </td><td>94.45951832184295 </td><td>           </td><td>3.006214350146839 </td><td>        </td><td>          </td><td>              </td><td>37.89774717650359</td><td>495604.1910585613 </td><td>489640.5529416146</td><td>0.012116412323542054</td></tr>\n",
       "<tr><td>maxs   </td><td>178.0             </td><td>           </td><td>6.0               </td><td>        </td><td>          </td><td>              </td><td>8329.96          </td><td>999550.0          </td><td>993709.0         </td><td>1.0                 </td></tr>\n",
       "<tr><td>sigma  </td><td>50.776508786141484</td><td>           </td><td>1.3253336753647298</td><td>        </td><td>          </td><td>              </td><td>111.5633444768106</td><td>288872.46978049306</td><td>384149.4195437661</td><td>0.10940578198332485 </td></tr>\n",
       "<tr><td>zeros  </td><td>2430              </td><td>           </td><td>2434              </td><td>        </td><td>          </td><td>              </td><td>52               </td><td>0                 </td><td>0                </td><td>583774              </td></tr>\n",
       "<tr><td>missing</td><td>0                 </td><td>0          </td><td>1170              </td><td>0       </td><td>0         </td><td>0             </td><td>0                </td><td>0                 </td><td>0                </td><td>0                   </td></tr>\n",
       "<tr><td>0      </td><td>0.0               </td><td>C1093826151</td><td>4.0               </td><td>M       </td><td>M348934600</td><td>transportation</td><td>4.55             </td><td>513111.0          </td><td>943864.0         </td><td>0.0                 </td></tr>\n",
       "<tr><td>1      </td><td>2.0               </td><td>C1093826151</td><td>4.0               </td><td>M       </td><td>M348934600</td><td>transportation</td><td>37.21            </td><td>513111.0          </td><td>943864.0         </td><td>0.0                 </td></tr>\n",
       "<tr><td>2      </td><td>3.0               </td><td>C1093826151</td><td>4.0               </td><td>M       </td><td>M348934600</td><td>transportation</td><td>31.63            </td><td>513111.0          </td><td>943864.0         </td><td>0.0                 </td></tr>\n",
       "<tr><td>3      </td><td>4.0               </td><td>C1093826151</td><td>4.0               </td><td>M       </td><td>M348934600</td><td>transportation</td><td>35.86            </td><td>513111.0          </td><td>943864.0         </td><td>0.0                 </td></tr>\n",
       "<tr><td>4      </td><td>6.0               </td><td>C1093826151</td><td>4.0               </td><td>M       </td><td>M348934600</td><td>transportation</td><td>39.58            </td><td>513111.0          </td><td>943864.0         </td><td>0.0                 </td></tr>\n",
       "<tr><td>5      </td><td>7.0               </td><td>C1093826151</td><td>4.0               </td><td>M       </td><td>M348934600</td><td>transportation</td><td>32.04            </td><td>513111.0          </td><td>943864.0         </td><td>0.0                 </td></tr>\n",
       "<tr><td>6      </td><td>9.0               </td><td>C1093826151</td><td>4.0               </td><td>M       </td><td>M348934600</td><td>transportation</td><td>12.52            </td><td>513111.0          </td><td>943864.0         </td><td>0.0                 </td></tr>\n",
       "<tr><td>7      </td><td>10.0              </td><td>C1093826151</td><td>4.0               </td><td>M       </td><td>M348934600</td><td>transportation</td><td>4.68             </td><td>513111.0          </td><td>943864.0         </td><td>0.0                 </td></tr>\n",
       "<tr><td>8      </td><td>11.0              </td><td>C1093826151</td><td>4.0               </td><td>M       </td><td>M348934600</td><td>transportation</td><td>2.22             </td><td>513111.0          </td><td>943864.0         </td><td>0.0                 </td></tr>\n",
       "<tr><td>9      </td><td>13.0              </td><td>C1093826151</td><td>4.0               </td><td>M       </td><td>M348934600</td><td>transportation</td><td>49.42            </td><td>513111.0          </td><td>943864.0         </td><td>0.0                 </td></tr>\n",
       "</tbody>\n",
       "</table>"
      ]
     },
     "metadata": {},
     "output_type": "display_data"
    }
   ],
   "source": [
    "input_df.describe()"
   ]
  },
  {
   "cell_type": "code",
   "execution_count": 8,
   "metadata": {},
   "outputs": [],
   "source": [
    "target = ['gender','merchant','category']\n",
    "input_df[target] = input_df[target].asfactor()"
   ]
  },
  {
   "cell_type": "code",
   "execution_count": 10,
   "metadata": {},
   "outputs": [
    {
     "data": {
      "text/html": [
       "<table>\n",
       "<thead>\n",
       "<tr><th style=\"text-align: right;\">  step</th><th>customer   </th><th style=\"text-align: right;\">  age</th><th>gender  </th><th>merchant  </th><th>category      </th><th style=\"text-align: right;\">  amount</th><th style=\"text-align: right;\">  cust_zip_code</th><th style=\"text-align: right;\">  merch_zip_code</th><th style=\"text-align: right;\">  fraud</th></tr>\n",
       "</thead>\n",
       "<tbody>\n",
       "<tr><td style=\"text-align: right;\">     0</td><td>C1093826151</td><td style=\"text-align: right;\">    4</td><td>M       </td><td>M348934600</td><td>transportation</td><td style=\"text-align: right;\">    4.55</td><td style=\"text-align: right;\">         513111</td><td style=\"text-align: right;\">          943864</td><td style=\"text-align: right;\">      0</td></tr>\n",
       "<tr><td style=\"text-align: right;\">     2</td><td>C1093826151</td><td style=\"text-align: right;\">    4</td><td>M       </td><td>M348934600</td><td>transportation</td><td style=\"text-align: right;\">   37.21</td><td style=\"text-align: right;\">         513111</td><td style=\"text-align: right;\">          943864</td><td style=\"text-align: right;\">      0</td></tr>\n",
       "<tr><td style=\"text-align: right;\">     3</td><td>C1093826151</td><td style=\"text-align: right;\">    4</td><td>M       </td><td>M348934600</td><td>transportation</td><td style=\"text-align: right;\">   31.63</td><td style=\"text-align: right;\">         513111</td><td style=\"text-align: right;\">          943864</td><td style=\"text-align: right;\">      0</td></tr>\n",
       "<tr><td style=\"text-align: right;\">     4</td><td>C1093826151</td><td style=\"text-align: right;\">    4</td><td>M       </td><td>M348934600</td><td>transportation</td><td style=\"text-align: right;\">   35.86</td><td style=\"text-align: right;\">         513111</td><td style=\"text-align: right;\">          943864</td><td style=\"text-align: right;\">      0</td></tr>\n",
       "<tr><td style=\"text-align: right;\">     6</td><td>C1093826151</td><td style=\"text-align: right;\">    4</td><td>M       </td><td>M348934600</td><td>transportation</td><td style=\"text-align: right;\">   39.58</td><td style=\"text-align: right;\">         513111</td><td style=\"text-align: right;\">          943864</td><td style=\"text-align: right;\">      0</td></tr>\n",
       "<tr><td style=\"text-align: right;\">     7</td><td>C1093826151</td><td style=\"text-align: right;\">    4</td><td>M       </td><td>M348934600</td><td>transportation</td><td style=\"text-align: right;\">   32.04</td><td style=\"text-align: right;\">         513111</td><td style=\"text-align: right;\">          943864</td><td style=\"text-align: right;\">      0</td></tr>\n",
       "</tbody>\n",
       "</table>"
      ]
     },
     "metadata": {},
     "output_type": "display_data"
    },
    {
     "data": {
      "text/plain": []
     },
     "execution_count": 10,
     "metadata": {},
     "output_type": "execute_result"
    }
   ],
   "source": [
    "input_df.head(6)"
   ]
  },
  {
   "cell_type": "code",
   "execution_count": 11,
   "metadata": {},
   "outputs": [],
   "source": [
    "y = \"fraud\"\n",
    "x = ['age','gender','merchant','category','amount']"
   ]
  },
  {
   "cell_type": "code",
   "execution_count": 19,
   "metadata": {},
   "outputs": [],
   "source": [
    "splits = input_df.split_frame(ratios=[0.8],seed=1)\n",
    "train = splits[0]\n",
    "test = splits[1]"
   ]
  },
  {
   "cell_type": "code",
   "execution_count": 20,
   "metadata": {},
   "outputs": [
    {
     "name": "stdout",
     "output_type": "stream",
     "text": [
      "AutoML progress: |\n",
      "17:39:31.630: AutoML: XGBoost is not available; skipping it.\n",
      "\n",
      "████████████████████████████████████████████████████████| 100%\n"
     ]
    }
   ],
   "source": [
    "aml = H2OAutoML(max_models = 30, max_runtime_secs=300, seed = 1)\n",
    "aml.train(x = x, y = y, training_frame = train)"
   ]
  },
  {
   "cell_type": "code",
   "execution_count": 21,
   "metadata": {},
   "outputs": [
    {
     "data": {
      "text/html": [
       "<table>\n",
       "<thead>\n",
       "<tr><th>model_id                                           </th><th style=\"text-align: right;\">  mean_residual_deviance</th><th style=\"text-align: right;\">     rmse</th><th style=\"text-align: right;\">       mse</th><th style=\"text-align: right;\">       mae</th><th style=\"text-align: right;\">    rmsle</th></tr>\n",
       "</thead>\n",
       "<tbody>\n",
       "<tr><td>StackedEnsemble_AllModels_AutoML_20200222_173931   </td><td style=\"text-align: right;\">              0.0031044 </td><td style=\"text-align: right;\">0.0557171</td><td style=\"text-align: right;\">0.0031044 </td><td style=\"text-align: right;\">0.00642349</td><td style=\"text-align: right;\">0.0390109</td></tr>\n",
       "<tr><td>StackedEnsemble_BestOfFamily_AutoML_20200222_173931</td><td style=\"text-align: right;\">              0.00310518</td><td style=\"text-align: right;\">0.0557242</td><td style=\"text-align: right;\">0.00310518</td><td style=\"text-align: right;\">0.00644148</td><td style=\"text-align: right;\">0.0390129</td></tr>\n",
       "<tr><td>GBM_1_AutoML_20200222_173931                       </td><td style=\"text-align: right;\">              0.00310524</td><td style=\"text-align: right;\">0.0557247</td><td style=\"text-align: right;\">0.00310524</td><td style=\"text-align: right;\">0.0063718 </td><td style=\"text-align: right;\">0.0389995</td></tr>\n",
       "<tr><td>GBM_2_AutoML_20200222_173931                       </td><td style=\"text-align: right;\">              0.00312877</td><td style=\"text-align: right;\">0.0559354</td><td style=\"text-align: right;\">0.00312877</td><td style=\"text-align: right;\">0.00638647</td><td style=\"text-align: right;\">0.0391828</td></tr>\n",
       "<tr><td>GBM_3_AutoML_20200222_173931                       </td><td style=\"text-align: right;\">              0.00316229</td><td style=\"text-align: right;\">0.0562343</td><td style=\"text-align: right;\">0.00316229</td><td style=\"text-align: right;\">0.00629139</td><td style=\"text-align: right;\">0.0393822</td></tr>\n",
       "<tr><td>DRF_1_AutoML_20200222_173931                       </td><td style=\"text-align: right;\">              0.00360101</td><td style=\"text-align: right;\">0.0600084</td><td style=\"text-align: right;\">0.00360101</td><td style=\"text-align: right;\">0.00915674</td><td style=\"text-align: right;\">0.0412054</td></tr>\n",
       "<tr><td>GLM_1_AutoML_20200222_173931                       </td><td style=\"text-align: right;\">              0.00503282</td><td style=\"text-align: right;\">0.0709424</td><td style=\"text-align: right;\">0.00503282</td><td style=\"text-align: right;\">0.0154315 </td><td style=\"text-align: right;\">0.0491744</td></tr>\n",
       "</tbody>\n",
       "</table>"
      ]
     },
     "metadata": {},
     "output_type": "display_data"
    },
    {
     "data": {
      "text/plain": []
     },
     "execution_count": 21,
     "metadata": {},
     "output_type": "execute_result"
    }
   ],
   "source": [
    "lb = aml.leaderboard\n",
    "#lb.head()\n",
    "lb # Entire leaderboard"
   ]
  },
  {
   "cell_type": "code",
   "execution_count": 22,
   "metadata": {},
   "outputs": [],
   "source": [
    "# Get model ids for all models in the AutoML Leaderboard\n",
    "model_ids = list(aml.leaderboard['model_id'].as_data_frame().iloc[:,0])\n",
    "# Get the \"All Models\" Stacked Ensemble model\n",
    "se = h2o.get_model([mid for mid in model_ids if \"StackedEnsemble_AllModels\" in mid][0])\n",
    "# Get the Stacked Ensemble metalearner model\n",
    "metalearner = h2o.get_model(se.metalearner()['name'])"
   ]
  },
  {
   "cell_type": "code",
   "execution_count": 23,
   "metadata": {},
   "outputs": [
    {
     "name": "stderr",
     "output_type": "stream",
     "text": [
      "c:\\programdata\\miniconda3\\lib\\site-packages\\matplotlib\\cbook\\__init__.py:424: MatplotlibDeprecationWarning: \n",
      "Passing one of 'on', 'true', 'off', 'false' as a boolean is deprecated; use an actual boolean (True/False) instead.\n",
      "  warn_deprecated(\"2.2\", \"Passing one of 'on', 'true', 'off', 'false' as a \"\n"
     ]
    },
    {
     "data": {
      "image/png": "[encoded data removed]",
      "text/plain": [
       "<Figure size 1008x720 with 1 Axes>"
      ]
     },
     "metadata": {
      "needs_background": "light"
     },
     "output_type": "display_data"
    }
   ],
   "source": [
    "%matplotlib inline\n",
    "metalearner.std_coef_plot()"
   ]
  },
  {
   "cell_type": "code",
   "execution_count": 25,
   "metadata": {},
   "outputs": [
    {
     "name": "stdout",
     "output_type": "stream",
     "text": [
      "stackedensemble prediction progress: |████████████████████████████████████| 100%\n"
     ]
    },
    {
     "data": {
      "text/html": [
       "<table>\n",
       "<thead>\n",
       "<tr><th style=\"text-align: right;\">     predict</th></tr>\n",
       "</thead>\n",
       "<tbody>\n",
       "<tr><td style=\"text-align: right;\">-3.52814e-05</td></tr>\n",
       "<tr><td style=\"text-align: right;\">-1.59924e-05</td></tr>\n",
       "<tr><td style=\"text-align: right;\">-6.45021e-05</td></tr>\n",
       "<tr><td style=\"text-align: right;\">-5.11853e-07</td></tr>\n",
       "<tr><td style=\"text-align: right;\">-4.83575e-05</td></tr>\n",
       "<tr><td style=\"text-align: right;\">-6.13036e-05</td></tr>\n",
       "</tbody>\n",
       "</table>"
      ]
     },
     "metadata": {},
     "output_type": "display_data"
    },
    {
     "data": {
      "text/plain": []
     },
     "execution_count": 25,
     "metadata": {},
     "output_type": "execute_result"
    }
   ],
   "source": [
    "pred = aml.predict(test)\n",
    "pred.head(6)"
   ]
  },
  {
   "cell_type": "code",
   "execution_count": null,
   "metadata": {},
   "outputs": [],
   "source": []
  }
 ],
 "metadata": {
  "kernelspec": {
   "display_name": "Python 3",
   "language": "python",
   "name": "python3"
  },
  "language_info": {
   "codemirror_mode": {
    "name": "ipython",
    "version": 3
   },
   "file_extension": ".py",
   "mimetype": "text/x-python",
   "name": "python",
   "nbconvert_exporter": "python",
   "pygments_lexer": "ipython3",
   "version": "3.7.0"
  }
 },
 "nbformat": 4,
 "nbformat_minor": 2
}
