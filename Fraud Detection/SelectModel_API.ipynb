{
 "cells": [
  {
   "cell_type": "code",
   "execution_count": 1,
   "metadata": {},
   "outputs": [],
   "source": [
    "from flask import Flask\n",
    "#from flask_cors import CORS\n",
    "from flask import jsonify\n",
    "from flask import request\n",
    "import modelselection as ms\n",
    "import pickle\n",
    "import json\n",
    "import preprocessing as prep\n",
    "#import visualizedata as vd\n",
    "#from flask_cors import CORS\n",
    "from FraudDependencyParser import FraudDependencyParser\n",
    "import numpy as np\n",
    "import pandas as pd\n",
    "import warnings\n",
    "\n",
    "warnings.filterwarnings('ignore')\n",
    "\n",
    "obj = FraudDependencyParser()\n",
    "\n",
    "def model_selector():\n",
    "    input_df=pd.read_csv(obj.inpath+'Input_dataset.csv')\n",
    "    input_df= prep.preprocess(input_df)\n",
    "\n",
    "    ## convert Categorical variables to Integer Variables\n",
    "    df_fi = pd.concat([input_df, prep.convertcat_to_intVar(input_df)], axis=1)\n",
    "    #split the dataset into train and Validation dataset\n",
    "    trainX, testX, trainY, testY = prep.splitDataset(df_fi)\n",
    "    \n",
    "    model_performance = []\n",
    "\n",
    "    model_performance.append(ms.FraudLogisticRegression(trainX, trainY, testX, testY))\n",
    "    model_performance.append(ms.FraudDecisionTree(trainX, trainY, testX, testY))\n",
    "    model_performance.append(ms.FraudXGB(trainX, trainY, testX, testY))\n",
    "    model_performance.append(ms.FraudRandomForest(trainX, trainY, testX, testY))\n",
    "    \n",
    "    return model_performance\n"
   ]
  },
  {
   "cell_type": "code",
   "execution_count": 4,
   "metadata": {},
   "outputs": [
    {
     "name": "stdout",
     "output_type": "stream",
     "text": [
      "[{'ModelName': 'LogisticRegression', 'precision': 0.8744239631336406, 'recall': 0.5532069970845481, 'f1_score': 0.6776785714285715, 'accuracy': 0.993077395106236, 'Avg_precision_recall': 0.7204457064076731, 'log_loss': 0.23909913815722084, 'mse': 0.006922604893763903, 'rmse': 0.08320219284227973}, {'ModelName': 'DecisionTree', 'precision': 0.82991452991453, 'recall': 0.7077259475218659, 'f1_score': 0.7639653815892998, 'accuracy': 0.9942471427475646, 'Avg_precision_recall': 0.7727333496440165, 'log_loss': 0.19869817593038197, 'mse': 0.0057528572524353765, 'rmse': 0.07584759226524845}, {'ModelName': 'XGBoostClassifier', 'precision': 0.8876306620209059, 'recall': 0.7427113702623906, 'f1_score': 0.8087301587301586, 'accuracy': 0.9953785380072102, 'Avg_precision_recall': 0.6626379829599761, 'log_loss': 0.15962063138006774, 'mse': 0.004621461992789753, 'rmse': 0.06798133562081399}, {'ModelName': 'RandomForest', 'precision': 0.8630252100840337, 'recall': 0.7485422740524781, 'f1_score': 0.8017174082747853, 'accuracy': 0.9951292475262714, 'Avg_precision_recall': 0.8798128834812458, 'log_loss': 0.1682310802235546, 'mse': 0.004870752473728619, 'rmse': 0.06979077642302468}]\n"
     ]
    }
   ],
   "source": [
    "model_performance=model_selector()\n",
    "print(model_performance)"
   ]
  },
  {
   "cell_type": "code",
   "execution_count": 6,
   "metadata": {},
   "outputs": [
    {
     "data": {
      "text/html": [
       "<div>\n",
       "<style scoped>\n",
       "    .dataframe tbody tr th:only-of-type {\n",
       "        vertical-align: middle;\n",
       "    }\n",
       "\n",
       "    .dataframe tbody tr th {\n",
       "        vertical-align: top;\n",
       "    }\n",
       "\n",
       "    .dataframe thead th {\n",
       "        text-align: right;\n",
       "    }\n",
       "</style>\n",
       "<table border=\"1\" class=\"dataframe\">\n",
       "  <thead>\n",
       "    <tr style=\"text-align: right;\">\n",
       "      <th></th>\n",
       "      <th>Avg_precision_recall</th>\n",
       "      <th>ModelName</th>\n",
       "      <th>accuracy</th>\n",
       "      <th>f1_score</th>\n",
       "      <th>log_loss</th>\n",
       "      <th>mse</th>\n",
       "      <th>precision</th>\n",
       "      <th>recall</th>\n",
       "      <th>rmse</th>\n",
       "    </tr>\n",
       "  </thead>\n",
       "  <tbody>\n",
       "    <tr>\n",
       "      <th>0</th>\n",
       "      <td>0.720446</td>\n",
       "      <td>LogisticRegression</td>\n",
       "      <td>0.993077</td>\n",
       "      <td>0.677679</td>\n",
       "      <td>0.239099</td>\n",
       "      <td>0.006923</td>\n",
       "      <td>0.874424</td>\n",
       "      <td>0.553207</td>\n",
       "      <td>0.083202</td>\n",
       "    </tr>\n",
       "    <tr>\n",
       "      <th>1</th>\n",
       "      <td>0.772733</td>\n",
       "      <td>DecisionTree</td>\n",
       "      <td>0.994247</td>\n",
       "      <td>0.763965</td>\n",
       "      <td>0.198698</td>\n",
       "      <td>0.005753</td>\n",
       "      <td>0.829915</td>\n",
       "      <td>0.707726</td>\n",
       "      <td>0.075848</td>\n",
       "    </tr>\n",
       "    <tr>\n",
       "      <th>2</th>\n",
       "      <td>0.662638</td>\n",
       "      <td>XGBoostClassifier</td>\n",
       "      <td>0.995379</td>\n",
       "      <td>0.808730</td>\n",
       "      <td>0.159621</td>\n",
       "      <td>0.004621</td>\n",
       "      <td>0.887631</td>\n",
       "      <td>0.742711</td>\n",
       "      <td>0.067981</td>\n",
       "    </tr>\n",
       "    <tr>\n",
       "      <th>3</th>\n",
       "      <td>0.879813</td>\n",
       "      <td>RandomForest</td>\n",
       "      <td>0.995129</td>\n",
       "      <td>0.801717</td>\n",
       "      <td>0.168231</td>\n",
       "      <td>0.004871</td>\n",
       "      <td>0.863025</td>\n",
       "      <td>0.748542</td>\n",
       "      <td>0.069791</td>\n",
       "    </tr>\n",
       "  </tbody>\n",
       "</table>\n",
       "</div>"
      ],
      "text/plain": [
       "   Avg_precision_recall           ModelName  accuracy  f1_score  log_loss  \\\n",
       "0              0.720446  LogisticRegression  0.993077  0.677679  0.239099   \n",
       "1              0.772733        DecisionTree  0.994247  0.763965  0.198698   \n",
       "2              0.662638   XGBoostClassifier  0.995379  0.808730  0.159621   \n",
       "3              0.879813        RandomForest  0.995129  0.801717  0.168231   \n",
       "\n",
       "        mse  precision    recall      rmse  \n",
       "0  0.006923   0.874424  0.553207  0.083202  \n",
       "1  0.005753   0.829915  0.707726  0.075848  \n",
       "2  0.004621   0.887631  0.742711  0.067981  \n",
       "3  0.004871   0.863025  0.748542  0.069791  "
      ]
     },
     "execution_count": 6,
     "metadata": {},
     "output_type": "execute_result"
    }
   ],
   "source": [
    "model_df = pd.DataFrame(model_performance)\n",
    "model_df"
   ]
  },
  {
   "cell_type": "code",
   "execution_count": 7,
   "metadata": {},
   "outputs": [],
   "source": [
    "with open(obj.model_path+'model_performance.json', 'w') as f:\n",
    "    json.dump(model_performance, f)"
   ]
  },
  {
   "cell_type": "code",
   "execution_count": 9,
   "metadata": {},
   "outputs": [
    {
     "name": "stdout",
     "output_type": "stream",
     "text": [
      " * Serving Flask app \"__main__\" (lazy loading)\n",
      " * Environment: production\n",
      "   WARNING: This is a development server. Do not use it in a production deployment.\n",
      "   Use a production WSGI server instead.\n",
      " * Debug mode: off\n"
     ]
    },
    {
     "name": "stderr",
     "output_type": "stream",
     "text": [
      " * Running on http://127.0.0.1:5000/ (Press CTRL+C to quit)\n",
      "127.0.0.1 - - [20/Feb/2020 15:40:03] \"\u001b[33mGET / HTTP/1.1\u001b[0m\" 404 -\n",
      "127.0.0.1 - - [20/Feb/2020 15:40:21] \"\u001b[1m\u001b[31mGET /mfdm/selectmodel HTTP/1.1\u001b[0m\" 405 -\n",
      "127.0.0.1 - - [20/Feb/2020 15:40:40] \"\u001b[33mGET / HTTP/1.1\u001b[0m\" 404 -\n",
      "127.0.0.1 - - [20/Feb/2020 15:40:44] \"\u001b[1m\u001b[31mGET /mfdm/selectmodel HTTP/1.1\u001b[0m\" 405 -\n"
     ]
    }
   ],
   "source": [
    "app = Flask(__name__)     \n",
    "CORS(app) \n",
    "\n",
    "@app.route('/mfdm/selectmodel', methods=['POST'])\n",
    "def configure():\n",
    "    # Get the data from the POST request.\n",
    "    data = request.get_json(force=True)\n",
    "    \n",
    "    return jsonify(model_performance)\n",
    "\n",
    "app.run(host='127.0.0.1', port= 5000)"
   ]
  },
  {
   "cell_type": "code",
   "execution_count": null,
   "metadata": {},
   "outputs": [],
   "source": []
  }
 ],
 "metadata": {
  "kernelspec": {
   "display_name": "Python 3",
   "language": "python",
   "name": "python3"
  },
  "language_info": {
   "codemirror_mode": {
    "name": "ipython",
    "version": 3
   },
   "file_extension": ".py",
   "mimetype": "text/x-python",
   "name": "python",
   "nbconvert_exporter": "python",
   "pygments_lexer": "ipython3",
   "version": "3.7.0"
  }
 },
 "nbformat": 4,
 "nbformat_minor": 2
}
