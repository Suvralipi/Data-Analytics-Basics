{
 "cells": [
  {
   "cell_type": "code",
   "execution_count": 1,
   "metadata": {},
   "outputs": [
    {
     "name": "stderr",
     "output_type": "stream",
     "text": [
      "C:\\Users\\561527.MFDMAI\\AppData\\Local\\Continuum\\anaconda\\lib\\site-packages\\sklearn\\externals\\six.py:31: DeprecationWarning: The module is deprecated in version 0.21 and will be removed in version 0.23 since we've dropped support for Python 2.7. Please rely on the official version of six (https://pypi.org/project/six/).\n",
      "  \"(https://pypi.org/project/six/).\", DeprecationWarning)\n"
     ]
    }
   ],
   "source": [
    "# -*- coding: utf-8 -*-\n",
    "\"\"\"\n",
    "Created on Wed Feb 19 11:21:41 2020\n",
    "\n",
    "@author: Suvralipi\n",
    "\"\"\"\n",
    "\n",
    "from flask import Flask\n",
    "from flask import jsonify\n",
    "from flask import request\n",
    "import preprocessing as prep\n",
    "import visualizedata as vd\n",
    "import json\n",
    "#from flask_cors import CORS\n",
    "from FraudDependencyParser import FraudDependencyParser\n",
    "import numpy as np\n",
    "import pandas as pd\n",
    "import warnings\n",
    "\n",
    "warnings.filterwarnings('ignore')\n",
    "\n",
    "\n",
    "#app = Flask(__name__)     \n",
    "#CORS(app) \n",
    "\n",
    "def generateEDA():\n",
    "    obj = FraudDependencyParser()\n",
    "    input_df=pd.read_csv(obj.inpath+'Input_dataset.csv')\n",
    "    v_features=input_df[['step','age','merchant','gender','amount','cust_zip_code','merch_zip_code']]\n",
    "    input_df = prep.preprocess(input_df)\n",
    "    df_fraud=input_df[input_df[obj.col_name_target]==1]\n",
    "    df_nonfraud=input_df[input_df[obj.col_name_target]==0]\n",
    "    \n",
    "    vd.paired_plot(df_fraud, df_nonfraud, obj.category, obj.amount)\n",
    "    vd.paired_plot(df_fraud, df_nonfraud, obj.age, obj.amount)\n",
    "    vd.paired_plot(df_fraud, df_nonfraud, obj.gender, obj.amount)\n",
    "    vd.visualizeTransAmount(input_df, obj.amount, obj.col_name_target)\n",
    "    \n",
    "    ## convert Categorical variables to Integer Variables\n",
    "    df_fi = prep.convertcat_to_intVar(input_df)\n",
    "    vd.feature_distribution(v_features, df_fi)\n",
    "    \n",
    "    vd.visualizeFraudData(input_df, df_fraud)  \n",
    "    \n",
    "    return \n",
    "\n",
    "\n",
    "generateEDA()\n"
   ]
  },
  {
   "cell_type": "code",
   "execution_count": 16,
   "metadata": {},
   "outputs": [
    {
     "name": "stdout",
     "output_type": "stream",
     "text": [
      "Collecting jsonpickle\n",
      "  Downloading https://files.pythonhosted.org/packages/7e/6b/fbb2d499b96861a18c1641f6fefe775110d3faba65c1524950e9ad64824a/jsonpickle-1.3-py2.py3-none-any.whl\n",
      "Installing collected packages: jsonpickle\n",
      "Successfully installed jsonpickle-1.3\n"
     ]
    },
    {
     "name": "stderr",
     "output_type": "stream",
     "text": [
      "WARNING: You are using pip version 19.1.1, however version 20.0.2 is available.\n",
      "You should consider upgrading via the 'python -m pip install --upgrade pip' command.\n"
     ]
    }
   ],
   "source": [
    "!pip install jsonpickle"
   ]
  },
  {
   "cell_type": "code",
   "execution_count": null,
   "metadata": {},
   "outputs": [
    {
     "name": "stdout",
     "output_type": "stream",
     "text": [
      " * Serving Flask app \"__main__\" (lazy loading)\n",
      " * Environment: production\n",
      "   WARNING: This is a development server. Do not use it in a production deployment.\n",
      "   Use a production WSGI server instead.\n",
      " * Debug mode: off\n"
     ]
    },
    {
     "name": "stderr",
     "output_type": "stream",
     "text": [
      " * Running on http://127.0.0.1:5000/ (Press CTRL+C to quit)\n",
      "127.0.0.1 - - [20/Feb/2020 08:58:00] \"\u001b[37mGET /plots/fraud_data/piechartfraud HTTP/1.1\u001b[0m\" 200 -\n",
      "127.0.0.1 - - [20/Feb/2020 08:58:04] \"\u001b[37mGET /plots/fraud_data/piechartfraud HTTP/1.1\u001b[0m\" 200 -\n",
      "127.0.0.1 - - [20/Feb/2020 08:58:46] \"\u001b[33mGET /plots/fraud_data/piechartfraud/plot.png HTTP/1.1\u001b[0m\" 404 -\n",
      "127.0.0.1 - - [20/Feb/2020 08:58:56] \"\u001b[33mGET /plots/fraud_data/piechartfraud/ HTTP/1.1\u001b[0m\" 404 -\n",
      "127.0.0.1 - - [20/Feb/2020 08:59:09] \"\u001b[37mGET /plots/fraud_data/piechartfraud HTTP/1.1\u001b[0m\" 200 -\n"
     ]
    }
   ],
   "source": [
    "\n",
    "from flask import Flask, send_file, make_response \n",
    "from flask import jsonify\n",
    "from flask import request\n",
    "import preprocessing as prep\n",
    "import visualizedata as vd\n",
    "import json\n",
    "#from flask_cors import CORS\n",
    "from FraudDependencyParser import FraudDependencyParser\n",
    "import numpy as np\n",
    "import pandas as pd\n",
    "import warnings\n",
    "\n",
    "warnings.filterwarnings('ignore')\n",
    "\n",
    "app = Flask(__name__)\n",
    "\n",
    "\n",
    "obj = FraudDependencyParser()\n",
    "input_df=pd.read_csv(obj.inpath+'Input_dataset.csv')\n",
    "input_df = prep.preprocess(input_df)\n",
    "df_fraud=input_df[input_df[obj.col_name_target]==1]\n",
    "df_nonfraud=input_df[input_df[obj.col_name_target]==0]\n",
    "    \n",
    "    \n",
    "@app.route('/plots/fraud_data/piechartfraud', methods=['GET'])\n",
    "def piechart_fraud():\n",
    "    bytes_obj = vd.visualizeFraudData(obj.outpath, input_df, df_fraud) \n",
    "    \n",
    "    return send_file(bytes_obj,\n",
    "                     attachment_filename='plot.png',\n",
    "                     mimetype='image/png')\n",
    "\n",
    "if __name__ == '__main__':\n",
    "    app.run(debug=False)"
   ]
  },
  {
   "cell_type": "code",
   "execution_count": null,
   "metadata": {},
   "outputs": [
    {
     "name": "stdout",
     "output_type": "stream",
     "text": [
      " * Serving Flask app \"__main__\" (lazy loading)\n",
      " * Environment: production\n",
      "   WARNING: This is a development server. Do not use it in a production deployment.\n",
      "   Use a production WSGI server instead.\n",
      " * Debug mode: off\n"
     ]
    },
    {
     "name": "stderr",
     "output_type": "stream",
     "text": [
      " * Running on http://127.0.0.1:5000/ (Press CTRL+C to quit)\n",
      "127.0.0.1 - - [20/Feb/2020 09:07:45] \"\u001b[33mGET /index HTTP/1.1\u001b[0m\" 404 -\n",
      "127.0.0.1 - - [20/Feb/2020 09:07:48] \"\u001b[33mGET /index HTTP/1.1\u001b[0m\" 404 -\n",
      "[2020-02-20 09:07:58,843] ERROR in app: Exception on / [GET]\n",
      "Traceback (most recent call last):\n",
      "  File \"C:\\Users\\Suvralipi\\AppData\\Roaming\\Python\\Python37\\site-packages\\flask\\app.py\", line 2446, in wsgi_app\n",
      "    response = self.full_dispatch_request()\n",
      "  File \"C:\\Users\\Suvralipi\\AppData\\Roaming\\Python\\Python37\\site-packages\\flask\\app.py\", line 1951, in full_dispatch_request\n",
      "    rv = self.handle_user_exception(e)\n",
      "  File \"C:\\Users\\Suvralipi\\AppData\\Roaming\\Python\\Python37\\site-packages\\flask\\app.py\", line 1820, in handle_user_exception\n",
      "    reraise(exc_type, exc_value, tb)\n",
      "  File \"C:\\Users\\Suvralipi\\AppData\\Roaming\\Python\\Python37\\site-packages\\flask\\_compat.py\", line 39, in reraise\n",
      "    raise value\n",
      "  File \"C:\\Users\\Suvralipi\\AppData\\Roaming\\Python\\Python37\\site-packages\\flask\\app.py\", line 1949, in full_dispatch_request\n",
      "    rv = self.dispatch_request()\n",
      "  File \"C:\\Users\\Suvralipi\\AppData\\Roaming\\Python\\Python37\\site-packages\\flask\\app.py\", line 1935, in dispatch_request\n",
      "    return self.view_functions[rule.endpoint](**req.view_args)\n",
      "  File \"<ipython-input-1-4076fbca2ba6>\", line 13, in show_index\n",
      "    return render_template(\"report.html\", user_image = full_filename)\n",
      "  File \"C:\\Users\\Suvralipi\\AppData\\Roaming\\Python\\Python37\\site-packages\\flask\\templating.py\", line 138, in render_template\n",
      "    ctx.app.jinja_env.get_or_select_template(template_name_or_list),\n",
      "  File \"C:\\Users\\Suvralipi\\AppData\\Roaming\\Python\\Python37\\site-packages\\jinja2\\environment.py\", line 930, in get_or_select_template\n",
      "    return self.get_template(template_name_or_list, parent, globals)\n",
      "  File \"C:\\Users\\Suvralipi\\AppData\\Roaming\\Python\\Python37\\site-packages\\jinja2\\environment.py\", line 883, in get_template\n",
      "    return self._load_template(name, self.make_globals(globals))\n",
      "  File \"C:\\Users\\Suvralipi\\AppData\\Roaming\\Python\\Python37\\site-packages\\jinja2\\environment.py\", line 857, in _load_template\n",
      "    template = self.loader.load(self, name, globals)\n",
      "  File \"C:\\Users\\Suvralipi\\AppData\\Roaming\\Python\\Python37\\site-packages\\jinja2\\loaders.py\", line 117, in load\n",
      "    source, filename, uptodate = self.get_source(environment, name)\n",
      "  File \"C:\\Users\\Suvralipi\\AppData\\Roaming\\Python\\Python37\\site-packages\\flask\\templating.py\", line 60, in get_source\n",
      "    return self._get_source_fast(environment, template)\n",
      "  File \"C:\\Users\\Suvralipi\\AppData\\Roaming\\Python\\Python37\\site-packages\\flask\\templating.py\", line 89, in _get_source_fast\n",
      "    raise TemplateNotFound(template)\n",
      "jinja2.exceptions.TemplateNotFound: report.html\n",
      "127.0.0.1 - - [20/Feb/2020 09:07:58] \"\u001b[35m\u001b[1mGET / HTTP/1.1\u001b[0m\" 500 -\n"
     ]
    }
   ],
   "source": [
    "from flask import Flask, render_template\n",
    "import os\n",
    "\n",
    "PLOT_FOLDER = os.path.join('Output_files', 'static')\n",
    "\n",
    "app = Flask(__name__)\n",
    "app.config['UPLOAD_FOLDER'] = PLOT_FOLDER\n",
    "\n",
    "@app.route('/')\n",
    "@app.route('/report')\n",
    "def show_index():\n",
    "    full_filename = os.path.join(app.config['UPLOAD_FOLDER'], 'PieChart_FraudvsNonFraud.jpg')\n",
    "    return render_template(\"report.html\", user_image = full_filename)\n",
    "\n",
    "if __name__ == '__main__':\n",
    "    app.run(debug=False)"
   ]
  },
  {
   "cell_type": "code",
   "execution_count": null,
   "metadata": {},
   "outputs": [],
   "source": []
  }
 ],
 "metadata": {
  "kernelspec": {
   "display_name": "Python 3",
   "language": "python",
   "name": "python3"
  },
  "language_info": {
   "codemirror_mode": {
    "name": "ipython",
    "version": 3
   },
   "file_extension": ".py",
   "mimetype": "text/x-python",
   "name": "python",
   "nbconvert_exporter": "python",
   "pygments_lexer": "ipython3",
   "version": "3.7.4"
  }
 },
 "nbformat": 4,
 "nbformat_minor": 2
}
